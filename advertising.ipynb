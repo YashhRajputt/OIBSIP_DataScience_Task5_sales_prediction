{
 "cells": [
  {
   "cell_type": "code",
   "execution_count": null,
   "id": "2f1f2861-d8a2-4c62-a795-fa31d4a14ce5",
   "metadata": {},
   "outputs": [],
   "source": [
    "import pandas as pd\n",
    "import numpy as np\n",
    "import matplotlib.pyplot as plt\n",
    "import seaborn as sns\n",
    "from sklearn.model_selection import train_test_split\n",
    "from sklearn.linear_model import LinearRegression\n",
    "from sklearn.metrics import r2_score, mean_squared_error"
   ]
  },
  {
   "cell_type": "code",
   "execution_count": null,
   "id": "ecacbadb-4256-434f-b77b-d6cfd6caeac7",
   "metadata": {},
   "outputs": [],
   "source": [
    "# Load dataset\n",
    "file_path = r\"C:\\Users\\Yash Rajput\\Downloads\\spamming\\spam.csv\"\n",
    "df = pd.read_csv(file_path)"
   ]
  },
  {
   "cell_type": "code",
   "execution_count": null,
   "id": "3cf73277-1c9e-4e12-b00c-513fb650dabc",
   "metadata": {},
   "outputs": [],
   "source": [
    "# Basic info\n",
    "df_info = df.info()\n",
    "df_head = df.head()"
   ]
  },
  {
   "cell_type": "code",
   "execution_count": null,
   "id": "264cf12b-db9a-4891-8989-b017f5121ecb",
   "metadata": {},
   "outputs": [],
   "source": [
    "# Check for missing values\n",
    "missing_values = df.isnull().sum()"
   ]
  },
  {
   "cell_type": "code",
   "execution_count": null,
   "id": "76bd6260-1dba-44a3-83f3-4458a8696bbd",
   "metadata": {},
   "outputs": [],
   "source": [
    "# Data visualization\n",
    "plt.figure(figsize=(8, 5))\n",
    "sns.heatmap(df.corr(), annot=True, cmap=\"coolwarm\")\n",
    "plt.title(\"Correlation Heatmap\")\n",
    "plt.savefig(\"/mnt/data/sales_correlation_heatmap.png\")\n",
    "plt.close()\n",
    "\n",
    "# Feature selection\n",
    "X = df[['TV', 'Radio', 'Newspaper']]\n",
    "y = df['Sales']\n",
    "\n",
    "# Train-test split\n",
    "X_train, X_test, y_train, y_test = train_test_split(X, y, test_size=0.2, random_state=42)\n",
    "\n",
    "# Model training\n",
    "model = LinearRegression()\n",
    "model.fit(X_train, y_train)\n",
    "\n",
    "# Predictions\n",
    "y_pred = model.predict(X_test)\n",
    "\n",
    "# Metrics\n",
    "r2 = r2_score(y_test, y_pred)\n",
    "mse = mean_squared_error(y_test, y_pred)\n",
    "rmse = np.sqrt(mse)\n",
    "\n",
    "# Plot actual vs predicted\n",
    "plt.figure(figsize=(7, 5))\n",
    "plt.scatter(y_test, y_pred, alpha=0.7, color=\"blue\")\n",
    "plt.xlabel(\"Actual Sales\")\n",
    "plt.ylabel(\"Predicted Sales\")\n",
    "plt.title(\"Actual vs Predicted Sales\")\n",
    "plt.savefig(\"/mnt/data/sales_actual_vs_predicted.png\")\n",
    "plt.close()"
   ]
  }
 ],
 "metadata": {
  "kernelspec": {
   "display_name": "Python 3 (ipykernel)",
   "language": "python",
   "name": "python3"
  },
  "language_info": {
   "codemirror_mode": {
    "name": "ipython",
    "version": 3
   },
   "file_extension": ".py",
   "mimetype": "text/x-python",
   "name": "python",
   "nbconvert_exporter": "python",
   "pygments_lexer": "ipython3",
   "version": "3.11.7"
  }
 },
 "nbformat": 4,
 "nbformat_minor": 5
}
